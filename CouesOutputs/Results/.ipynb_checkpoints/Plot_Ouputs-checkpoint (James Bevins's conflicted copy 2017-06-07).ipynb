{
 "cells": [
  {
   "cell_type": "markdown",
   "metadata": {},
   "source": [
    "## Plot the convergence timeline"
   ]
  },
  {
   "cell_type": "code",
   "execution_count": null,
   "metadata": {
    "collapsed": false
   },
   "outputs": [],
   "source": [
    "import os\n",
    "import sys\n",
    "\n",
    "import pandas as pd\n",
    "import numpy as np\n",
    "#%matplotlib inline\n",
    "\n",
    "sys.path.insert(0,os.path.abspath('/home/pyne-user/Dropbox/UCB/Computational_Tools/Scripts/Python/Support'))\n",
    "from Plotting import line_plot\n",
    "\n",
    "# Read in the data\n",
    "timeline = pd.read_table(\"timeline.txt\", header=None, sep='\\s+')\n",
    "timeline.columns = ['Generation', 'Func_Eval', 'Fitness', 'nps', 'member#']\n",
    "\n",
    "# Plot\n",
    "data = np.array([timeline['Func_Eval'], timeline['Fitness']])\n",
    "line_plot(data, xMin=0, xMax=4500, yMin=0.05, yMax=0.5, legend=False)"
   ]
  },
  {
   "cell_type": "code",
   "execution_count": null,
   "metadata": {
    "collapsed": true
   },
   "outputs": [],
   "source": []
  }
 ],
 "metadata": {
  "kernelspec": {
   "display_name": "Python 2",
   "language": "python",
   "name": "python2"
  },
  "language_info": {
   "codemirror_mode": {
    "name": "ipython",
    "version": 2
   },
   "file_extension": ".py",
   "mimetype": "text/x-python",
   "name": "python",
   "nbconvert_exporter": "python",
   "pygments_lexer": "ipython2",
   "version": "2.7.6"
  }
 },
 "nbformat": 4,
 "nbformat_minor": 0
}
