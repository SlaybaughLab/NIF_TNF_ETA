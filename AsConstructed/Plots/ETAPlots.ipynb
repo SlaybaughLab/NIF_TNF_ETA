{
 "cells": [
  {
   "cell_type": "markdown",
   "metadata": {},
   "source": [
    "# Plots Comparing the NIF source Term, Objective Spectra, and ETA Results"
   ]
  },
  {
   "cell_type": "code",
   "execution_count": 13,
   "metadata": {
    "collapsed": true
   },
   "outputs": [],
   "source": [
    "import os\n",
    "import sys\n",
    "\n",
    "import pandas as pd\n",
    "\n",
    "import matplotlib\n",
    "matplotlib.use('Qt5Agg')\n",
    "#%matplotlib inline\n",
    "\n",
    "# Path to PyScripts support functions \n",
    "#sys.path.insert(0,os.path.abspath('/home/pyne-user/Dropbox/UCB/Computational_Tools/Scripts/Python/DataAnalysis'))\n",
    "sys.path.insert(0,os.path.abspath('C:\\Users\\James\\Dropbox\\UCB\\Computational_Tools\\Scripts\\Python\\DataAnalysis'))\n",
    "from Histograms import Histogram\n",
    "\n",
    "dataPath = '../MCNP_Model/ETA_Fitness_Workup.xlsx'\n",
    "nifPath = 'NIF Spectra.xlsx'\n",
    "cyclotronPath = '33MeVTa_pdf.txt'"
   ]
  },
  {
   "cell_type": "markdown",
   "metadata": {},
   "source": [
    "## Get the DPLUS Objective Differential Spectrum"
   ]
  },
  {
   "cell_type": "code",
   "execution_count": 2,
   "metadata": {},
   "outputs": [
    {
     "name": "stdout",
     "output_type": "stream",
     "text": [
      "The objective spectrum data:\n",
      "          eBins          flux         sigma\n",
      "0  4.139900e-07  7.262044e-07  1.089307e-07\n",
      "1  1.125300e-06  2.821755e-05  7.578993e-06\n",
      "2  3.059000e-06  2.653741e-04  1.882802e-05\n",
      "3  1.067700e-05  3.724096e-04  2.070780e-05\n",
      "4  2.902300e-05  3.743570e-04  1.107437e-05\n",
      "5  1.013000e-04  5.886148e-04  6.235080e-06\n",
      "6  2.753600e-04  8.131465e-04  3.542940e-06\n",
      "7  5.829500e-04  1.376631e-03  3.117735e-06\n",
      "8  1.234100e-03  2.056537e-03  2.509481e-06\n",
      "9  3.354600e-03  4.104624e-03  1.796916e-06\n"
     ]
    }
   ],
   "source": [
    "objDiffData = pd.read_excel(dataPath, \"Normed Diff\", skiprows=2, header=0,\n",
    "                     parse_cols=[0, 12, 14])\n",
    "objDiffData.columns = ['eBins', 'flux', 'sigma']\n",
    "print \"The objective spectrum data:\\n\", objDiffData.head(10)\n",
    "\n",
    "objDiffHisto=Histogram()\n",
    "objDiffHisto.build_histo(objDiffData['eBins'].tolist(), objDiffData['flux'].tolist(), \n",
    "                         uncert=objDiffData['sigma'].tolist(), edgeLoc='up',\n",
    "                         name='\\\\textbf{Objective TN+PFNS}')"
   ]
  },
  {
   "cell_type": "markdown",
   "metadata": {},
   "source": [
    "## Get the DPLUS Objective Spectrum"
   ]
  },
  {
   "cell_type": "code",
   "execution_count": 3,
   "metadata": {},
   "outputs": [
    {
     "name": "stdout",
     "output_type": "stream",
     "text": [
      "The objective spectrum data:\n",
      "          eBins          flux         sigma\n",
      "0  4.139900e-07  2.039392e-12  3.059087e-13\n",
      "1  1.125300e-06  1.361539e-10  3.656977e-11\n",
      "2  3.059000e-06  3.480964e-09  2.469708e-10\n",
      "3  1.067700e-05  1.924481e-08  1.070106e-09\n",
      "4  2.902300e-05  4.658855e-08  1.378200e-09\n",
      "5  1.013000e-04  2.885913e-07  3.056990e-09\n",
      "6  2.753600e-04  9.601070e-07  4.183258e-09\n",
      "7  5.829500e-04  2.872378e-06  6.505239e-09\n",
      "8  1.234100e-03  9.083840e-06  1.108452e-08\n",
      "9  3.354600e-03  5.904233e-05  2.584746e-08\n"
     ]
    }
   ],
   "source": [
    "objData = pd.read_excel(dataPath, \"Normed Flux\", skiprows=1, header=0,\n",
    "                        parse_cols=[0, 4, 6])\n",
    "objData.columns = ['eBins', 'flux', 'sigma']\n",
    "print \"The objective spectrum data:\\n\", objData.head(10)\n",
    "\n",
    "objHisto=Histogram()\n",
    "objHisto.build_histo(objData['eBins'].tolist(), objData['flux'].tolist(), \n",
    "                         uncert=objData['sigma'].tolist(), edgeLoc='up',\n",
    "                         name='\\\\textbf{Objective TN+PFNS}')"
   ]
  },
  {
   "cell_type": "markdown",
   "metadata": {},
   "source": [
    "## Get the ETA Spectrum"
   ]
  },
  {
   "cell_type": "code",
   "execution_count": 4,
   "metadata": {},
   "outputs": [
    {
     "name": "stdout",
     "output_type": "stream",
     "text": [
      "The objective spectrum data:\n",
      "          eBins          flux         sigma\n",
      "0  4.139900e-07  0.000000e+00  0.000000e+00\n",
      "1  1.125300e-06  0.000000e+00  0.000000e+00\n",
      "2  3.059000e-06  0.000000e+00  0.000000e+00\n",
      "3  1.067700e-05  1.715796e-09  1.715796e-09\n",
      "4  2.902300e-05  1.134661e-06  2.119546e-07\n",
      "5  1.013000e-04  2.073210e-05  6.047553e-06\n",
      "6  2.753600e-04  5.774384e-05  4.353886e-06\n",
      "7  5.829500e-04  8.723620e-05  4.527559e-06\n",
      "8  1.234100e-03  1.221183e-04  3.553643e-06\n",
      "9  3.354600e-03  3.307834e-04  3.870166e-06\n"
     ]
    }
   ],
   "source": [
    "etaData = pd.read_excel(dataPath, \"Normed Flux\", skiprows=1, header=0,\n",
    "                        parse_cols=[0, 1, 3])\n",
    "etaData.columns = ['eBins', 'flux', 'sigma']\n",
    "print \"The objective spectrum data:\\n\", etaData.head(10)\n",
    "\n",
    "etaHisto=Histogram()\n",
    "etaHisto.build_histo(etaData['eBins'].tolist(), etaData['flux'].tolist(), \n",
    "                     uncert=etaData['sigma'].tolist(), edgeLoc='up',\n",
    "                     name='\\\\textbf{ETA}')"
   ]
  },
  {
   "cell_type": "markdown",
   "metadata": {},
   "source": [
    "## Get the ETA Differential Spectrum"
   ]
  },
  {
   "cell_type": "code",
   "execution_count": 5,
   "metadata": {},
   "outputs": [
    {
     "name": "stdout",
     "output_type": "stream",
     "text": [
      "The objective spectrum data:\n",
      "          eBins      flux     sigma\n",
      "0  4.139900e-07  0.000000  0.000000\n",
      "1  1.125300e-06  0.000000  0.000000\n",
      "2  3.059000e-06  0.000000  0.000000\n",
      "3  1.067700e-05  0.000025  0.000025\n",
      "4  2.902300e-05  0.006826  0.001275\n",
      "5  1.013000e-04  0.031656  0.009234\n",
      "6  2.753600e-04  0.036612  0.002761\n",
      "7  5.829500e-04  0.031300  0.001624\n",
      "8  1.234100e-03  0.020698  0.000602\n",
      "9  3.354600e-03  0.017216  0.000201\n"
     ]
    }
   ],
   "source": [
    "etaDiffData = pd.read_excel(dataPath, \"Normed Diff\", skiprows=2, header=0,\n",
    "                        parse_cols=[0, 5, 7])\n",
    "etaDiffData.columns = ['eBins', 'flux', 'sigma']\n",
    "print \"The objective spectrum data:\\n\", etaDiffData.head(10)\n",
    "\n",
    "etaDiffHisto=Histogram()\n",
    "etaDiffHisto.build_histo(etaDiffData['eBins'].tolist(), etaDiffData['flux'].tolist(), \n",
    "                         uncert=etaDiffData['sigma'].tolist(), edgeLoc='up',\n",
    "                         name='\\\\textbf{ETA}')"
   ]
  },
  {
   "cell_type": "markdown",
   "metadata": {},
   "source": [
    "## Get the NIF Source Spectrum"
   ]
  },
  {
   "cell_type": "code",
   "execution_count": 6,
   "metadata": {},
   "outputs": [
    {
     "name": "stdout",
     "output_type": "stream",
     "text": [
      "The NIF differential spectrum data:\n",
      "      eBins      flux\n",
      "0  0.000001  0.000000\n",
      "1  0.000001  0.000000\n",
      "2  0.000001  0.000000\n",
      "3  0.000001  0.000000\n",
      "4  0.000001  0.000000\n",
      "5  0.000002  0.000000\n",
      "6  0.000002  0.000000\n",
      "7  0.000002  0.000004\n",
      "8  0.000002  0.000004\n",
      "9  0.000002  0.000000\n"
     ]
    }
   ],
   "source": [
    "nifDiffData = pd.read_excel(nifPath, skiprows=1, header=0,\n",
    "                        parse_cols=[0, 6])\n",
    "nifDiffData.columns = ['eBins', 'flux']\n",
    "print \"The NIF differential spectrum data:\\n\", nifDiffData.head(10)\n",
    "\n",
    "nifDiffHisto=Histogram()\n",
    "nifDiffHisto.build_histo(nifDiffData['eBins'].tolist(), nifDiffData['flux'].tolist(), \n",
    "                         edgeLoc='up', name='\\\\textbf{NIF Shot n140520}')"
   ]
  },
  {
   "cell_type": "markdown",
   "metadata": {},
   "source": [
    "## Get the 88\" Cyclotron  Source Normalized Differential Spectrum"
   ]
  },
  {
   "cell_type": "code",
   "execution_count": 21,
   "metadata": {},
   "outputs": [
    {
     "name": "stdout",
     "output_type": "stream",
     "text": [
      "The 88-Inch differential spectrum data:\n",
      "   eBins      flux     sigma\n",
      "0    1.5  0.115151  0.003694\n",
      "1    2.5  0.081084  0.002384\n",
      "2    3.5  0.046874  0.001413\n",
      "3    4.5  0.053665  0.001253\n",
      "4    5.5  0.052164  0.001947\n",
      "5    6.5  0.056998  0.002516\n",
      "6    7.5  0.079243  0.002891\n",
      "7    8.5  0.077563  0.005372\n",
      "8    9.5  0.071217  0.007948\n",
      "9   10.5  0.077486  0.007507\n"
     ]
    }
   ],
   "source": [
    "cyclotronDiffData = pd.read_table(cyclotronPath, delim_whitespace=True, header=None, names=['eBins', 'flux', 'sigma'])\n",
    "print \"The 88-Inch differential spectrum data:\\n\", cyclotronDiffData.head(10)\n",
    "\n",
    "cyclotronDiffHisto=Histogram()\n",
    "cyclotronDiffHisto.build_histo(cyclotronDiffData['eBins'].tolist(), cyclotronDiffData['flux'].tolist(), \n",
    "                               uncert=cyclotronDiffData['sigma'].tolist(), edgeLoc='up',\n",
    "                               name='\\\\textbf{33MeV D on Ta}')"
   ]
  },
  {
   "cell_type": "markdown",
   "metadata": {},
   "source": [
    "## Generate Plots"
   ]
  },
  {
   "cell_type": "code",
   "execution_count": 25,
   "metadata": {},
   "outputs": [],
   "source": [
    "# Objective vs ETA\n",
    "objHisto.plot(etaHisto,xMin=1E-6, yMin=1E-8, logX=True, logY=True, legendLoc=4,\n",
    "              xLabel='\\\\textbf{Energy [MeV]}', yLabel='\\\\textbf{Normalized Flux [n cm$^{-2}$ s$^{-1}$]}')\n",
    "# Objective vs ETA - Differential\n",
    "objDiffHisto.plot(etaDiffHisto,xMin=1E-6, yMin=1E-5, logX=True, logY=True, legendLoc=4,\n",
    "                  xLabel='\\\\textbf{Energy [MeV]}',\n",
    "                  yLabel='\\\\textbf{Normalized Differential Flux [n cm$^{-2}$ s$^{-1}$ MeV$^{-1}$]}')\n",
    "\n",
    "# ETA\n",
    "objHisto.plot(xMin=1E-6, yMin=1E-8, logX=True, logY=True, legendLoc=4,\n",
    "              xLabel='\\\\textbf{Energy [MeV]}', yLabel='\\\\textbf{Normalized Flux [n cm$^{-2}$ s$^{-1}$]}')\n",
    "# ETA - Differential\n",
    "objDiffHisto.plot(xMin=1E-6, yMin=1E-5, logX=True, logY=True, legendLoc=4,\n",
    "                  xLabel='\\\\textbf{Energy [MeV]}',\n",
    "                  yLabel='\\\\textbf{Normalized Differential Flux [n cm$^{-2}$ s$^{-1}$ MeV$^{-1}$]}')\n",
    "\n",
    "# NIF vs Obj - Differential\n",
    "objDiffHisto.plot(nifDiffHisto,xMin=1E-6, yMin=1E-5, logX=True, logY=True, legendLoc=4, xLabel='\\\\textbf{Energy [MeV]}',\n",
    "                  yLabel='\\\\textbf{Normalized Differential Flux [n cm$^{-2}$ s$^{-1}$ MeV$^{-1}$]}')\n",
    "\n",
    "# Objective -Differential\n",
    "objDiffHisto.plot(xMin=1E-6, yMin=1E-5, logX=True, logY=True, legendLoc=4,\n",
    "                  xLabel='\\\\textbf{Energy [MeV]}',\n",
    "                  yLabel='\\\\textbf{Normalized Differential Flux [n cm$^{-2}$ s$^{-1}$ MeV$^{-1}$]}')\n",
    "\n",
    "# 88\" vs Obj - Differential\n",
    "cyclotronDiffHisto.plot(objDiffHisto, xMin=1E-6, yMin=1E-5, logX=False, logY=True, legendLoc=1, xLabel='\\\\textbf{Energy [MeV]}',\n",
    "                  yLabel='\\\\textbf{Neutron Probability Distribution [MeV$^{-1}$]}')"
   ]
  },
  {
   "cell_type": "code",
   "execution_count": null,
   "metadata": {
    "collapsed": true
   },
   "outputs": [],
   "source": []
  }
 ],
 "metadata": {
  "kernelspec": {
   "display_name": "Python 2",
   "language": "python",
   "name": "python2"
  },
  "language_info": {
   "codemirror_mode": {
    "name": "ipython",
    "version": 2
   },
   "file_extension": ".py",
   "mimetype": "text/x-python",
   "name": "python",
   "nbconvert_exporter": "python",
   "pygments_lexer": "ipython2",
   "version": "2.7.13"
  }
 },
 "nbformat": 4,
 "nbformat_minor": 1
}
